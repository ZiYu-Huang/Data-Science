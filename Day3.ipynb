{
  "nbformat": 4,
  "nbformat_minor": 0,
  "metadata": {
    "colab": {
      "name": "Day3-ndarray的基本索引及切片",
      "provenance": [],
      "collapsed_sections": [],
      "include_colab_link": true
    },
    "kernelspec": {
      "name": "python3",
      "display_name": "Python 3"
    },
    "language_info": {
      "name": "python"
    }
  },
  "cells": [
    {
      "cell_type": "markdown",
      "metadata": {
        "id": "view-in-github",
        "colab_type": "text"
      },
      "source": [
        "<a href=\"https://colab.research.google.com/github/ZiYu-Huang/108-2-data-science/blob/master/Day3.ipynb\" target=\"_parent\"><img src=\"https://colab.research.google.com/assets/colab-badge.svg\" alt=\"Open In Colab\"/></a>"
      ]
    },
    {
      "cell_type": "code",
      "metadata": {
        "colab": {
          "base_uri": "https://localhost:8080/"
        },
        "id": "OlEWymeg7-b6",
        "outputId": "61bc6685-017c-4779-e42f-c3d341ffd955"
      },
      "source": [
        "import numpy as np\n",
        "test=np.array([[1,2,3],[4,5,6],[7,8,9],[10,11,12]])\n",
        "print(test.shape)"
      ],
      "execution_count": null,
      "outputs": [
        {
          "output_type": "stream",
          "name": "stdout",
          "text": [
            "(4, 3)\n"
          ]
        }
      ]
    },
    {
      "cell_type": "code",
      "metadata": {
        "colab": {
          "base_uri": "https://localhost:8080/"
        },
        "id": "h0qZ4e5G8WNg",
        "outputId": "19ce045e-234d-4ae2-fd45-08b696aba10e"
      },
      "source": [
        "###基本索引\n",
        "#陣列索引是由外而內的，以上列ndarray作為範例\n",
        "#因為都只有一層的索引，所以回傳的都是一排shape為3的ndarray\n",
        "print(test[0])\n",
        "print(test[1])\n",
        "print(test[2])\n",
        "print(test[3])"
      ],
      "execution_count": null,
      "outputs": [
        {
          "output_type": "stream",
          "name": "stdout",
          "text": [
            "[1 2 3]\n",
            "[4 5 6]\n",
            "[7 8 9]\n",
            "[10 11 12]\n"
          ]
        }
      ]
    },
    {
      "cell_type": "code",
      "metadata": {
        "colab": {
          "base_uri": "https://localhost:8080/"
        },
        "id": "FmxcLLGU_xrg",
        "outputId": "a3e04837-721e-43cd-a545-a8f929232c03"
      },
      "source": [
        "#取出陣列裡的值\n",
        "print(test[0][2] )\n",
        "print(test[1][1] )\n",
        "print(test[2][0] )\n",
        "print(test[3][2] )"
      ],
      "execution_count": null,
      "outputs": [
        {
          "output_type": "stream",
          "name": "stdout",
          "text": [
            "3\n",
            "5\n",
            "7\n",
            "12\n"
          ]
        }
      ]
    },
    {
      "cell_type": "code",
      "metadata": {
        "colab": {
          "base_uri": "https://localhost:8080/"
        },
        "id": "6xv8a62k-jfR",
        "outputId": "ff684d3f-9483-4895-b7eb-fda861ae9d4e"
      },
      "source": [
        "#一次索取多值並改變順序\n",
        "print(test[0][[1,0,2]] )\n",
        "print(test[1][[1,0]] )\n",
        "print(test[2][[2,1]] )\n",
        "print(test[3][[1,2]] )"
      ],
      "execution_count": null,
      "outputs": [
        {
          "output_type": "stream",
          "name": "stdout",
          "text": [
            "[2 1 3]\n",
            "[5 4]\n",
            "[9 8]\n",
            "[11 12]\n"
          ]
        }
      ]
    },
    {
      "cell_type": "code",
      "metadata": {
        "colab": {
          "base_uri": "https://localhost:8080/"
        },
        "id": "_1mlB0dKAPro",
        "outputId": "5b0ffd1b-2274-469f-9176-5cb2cae848f2"
      },
      "source": [
        "print(test[[1,2]][[1,0]]) #先取出test的外層，再由取出中排出順序\n",
        "print(test[[1,2]][[0,1]])\n",
        "print(test[[2,1]][[0,1]])\n",
        "print(test[[1,3]][[1,0]])\n",
        "print(test[[1,2,3]][[1,0,2]])"
      ],
      "execution_count": null,
      "outputs": [
        {
          "output_type": "stream",
          "name": "stdout",
          "text": [
            "[[7 8 9]\n",
            " [4 5 6]]\n",
            "[[4 5 6]\n",
            " [7 8 9]]\n",
            "[[7 8 9]\n",
            " [4 5 6]]\n",
            "[[10 11 12]\n",
            " [ 4  5  6]]\n",
            "[[ 7  8  9]\n",
            " [ 4  5  6]\n",
            " [10 11 12]]\n"
          ]
        }
      ]
    },
    {
      "cell_type": "code",
      "metadata": {
        "id": "Xim5Nf3WHnUu",
        "colab": {
          "base_uri": "https://localhost:8080/",
          "height": 35
        },
        "outputId": "15991083-436c-41a4-bad7-43cd1c9e3d98"
      },
      "source": [
        "###切片索引\n",
        "##使用方式\n",
        "'''test[起始位置(預設為0):最後位置(預設最終):間隔(預設為1)]''' ##輸出結果不包括最後位置"
      ],
      "execution_count": null,
      "outputs": [
        {
          "output_type": "execute_result",
          "data": {
            "application/vnd.google.colaboratory.intrinsic+json": {
              "type": "string"
            },
            "text/plain": [
              "'test[起始位置(預設為0):最後位置(預設最終):間隔(預設為1)]'"
            ]
          },
          "metadata": {},
          "execution_count": 17
        }
      ]
    },
    {
      "cell_type": "code",
      "metadata": {
        "colab": {
          "base_uri": "https://localhost:8080/"
        },
        "id": "w2QcrSbJCrYv",
        "outputId": "c951d7a5-fb64-4995-caa0-7fe38f24926b"
      },
      "source": [
        "test[:3] #此範例只有輸入最後位置的參數，起始位置、間隔都是預設值，輸出不包括最後位置"
      ],
      "execution_count": null,
      "outputs": [
        {
          "output_type": "execute_result",
          "data": {
            "text/plain": [
              "array([[1, 2, 3],\n",
              "       [4, 5, 6],\n",
              "       [7, 8, 9]])"
            ]
          },
          "metadata": {},
          "execution_count": 18
        }
      ]
    },
    {
      "cell_type": "code",
      "metadata": {
        "colab": {
          "base_uri": "https://localhost:8080/"
        },
        "id": "AVl6VcWvHIxn",
        "outputId": "36bd252a-dbed-4ad1-f33e-94d207625a49"
      },
      "source": [
        "test[::-1] #倒敘 只需將間隔數設為-1"
      ],
      "execution_count": null,
      "outputs": [
        {
          "output_type": "execute_result",
          "data": {
            "text/plain": [
              "array([[10, 11, 12],\n",
              "       [ 7,  8,  9],\n",
              "       [ 4,  5,  6],\n",
              "       [ 1,  2,  3]])"
            ]
          },
          "metadata": {},
          "execution_count": 21
        }
      ]
    },
    {
      "cell_type": "code",
      "metadata": {
        "colab": {
          "base_uri": "https://localhost:8080/"
        },
        "id": "h2JY8CwPIEE_",
        "outputId": "c200333c-61bd-4ab9-e022-9b6c8df27cbb"
      },
      "source": [
        "test[2,2:0:-1] #索引和切片組合使用  #先取出第二層，再取出第二層中的2和1(有倒敘) #輸出不包括最後位置"
      ],
      "execution_count": null,
      "outputs": [
        {
          "output_type": "execute_result",
          "data": {
            "text/plain": [
              "array([9, 8])"
            ]
          },
          "metadata": {},
          "execution_count": 22
        }
      ]
    },
    {
      "cell_type": "code",
      "metadata": {
        "colab": {
          "base_uri": "https://localhost:8080/"
        },
        "id": "mfhpZLAtIrNv",
        "outputId": "825ce608-2a43-4218-c43a-f6183ce71e08"
      },
      "source": [
        "test[0:3:2,2]  #索引和切片組合使用 #先取出第0,1,2層，取出間隔為2，再取出其中的2 #輸出不包括最後位置"
      ],
      "execution_count": null,
      "outputs": [
        {
          "output_type": "execute_result",
          "data": {
            "text/plain": [
              "array([3, 9])"
            ]
          },
          "metadata": {},
          "execution_count": 23
        }
      ]
    }
  ]
}