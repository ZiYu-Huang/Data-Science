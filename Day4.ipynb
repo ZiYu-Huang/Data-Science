{
  "nbformat": 4,
  "nbformat_minor": 0,
  "metadata": {
    "colab": {
      "name": "Day4",
      "provenance": [],
      "collapsed_sections": [],
      "include_colab_link": true
    },
    "kernelspec": {
      "name": "python3",
      "display_name": "Python 3"
    },
    "language_info": {
      "name": "python"
    }
  },
  "cells": [
    {
      "cell_type": "markdown",
      "metadata": {
        "id": "view-in-github",
        "colab_type": "text"
      },
      "source": [
        "<a href=\"https://colab.research.google.com/github/ZiYu-Huang/108-2-data-science/blob/master/Day4.ipynb\" target=\"_parent\"><img src=\"https://colab.research.google.com/assets/colab-badge.svg\" alt=\"Open In Colab\"/></a>"
      ]
    },
    {
      "cell_type": "markdown",
      "metadata": {
        "id": "EAiu7xbHbVAC"
      },
      "source": [
        "#布林索引\n",
        "##布林索引很有利於我們之後索取資料使用\n",
        "###在索引裡放入布林陣列，為True的值會被挑出來\n"
      ]
    },
    {
      "cell_type": "code",
      "metadata": {
        "id": "izm0EtV-Pm2-"
      },
      "source": [
        "import numpy as np\n",
        "test=np.array([1,2,3,4,11,12,13,14])"
      ],
      "execution_count": 1,
      "outputs": []
    },
    {
      "cell_type": "code",
      "metadata": {
        "colab": {
          "base_uri": "https://localhost:8080/"
        },
        "id": "U1sDZEV2QDNG",
        "outputId": "3a42c268-4118-4f5f-c7dd-2230f9031469"
      },
      "source": [
        "test<10 #我們想要知道陣列裡資料是否小於10，產生布林陣列"
      ],
      "execution_count": 2,
      "outputs": [
        {
          "output_type": "execute_result",
          "data": {
            "text/plain": [
              "array([ True,  True,  True,  True, False, False, False, False])"
            ]
          },
          "metadata": {},
          "execution_count": 2
        }
      ]
    },
    {
      "cell_type": "code",
      "metadata": {
        "colab": {
          "base_uri": "https://localhost:8080/"
        },
        "id": "JZ_b-TSBP3c-",
        "outputId": "11d53af6-1a7d-4450-bd76-e44799068893"
      },
      "source": [
        "test[test<10] #放入索引，就獲得了小於10的數值"
      ],
      "execution_count": 3,
      "outputs": [
        {
          "output_type": "execute_result",
          "data": {
            "text/plain": [
              "array([1, 2, 3, 4])"
            ]
          },
          "metadata": {},
          "execution_count": 3
        }
      ]
    },
    {
      "cell_type": "code",
      "metadata": {
        "colab": {
          "base_uri": "https://localhost:8080/",
          "height": 167
        },
        "id": "79mRVvAUZ3nF",
        "outputId": "a9d42042-6417-44af-de1d-ab40b3a7e42d"
      },
      "source": [
        "test[(test<10) and (test>2)] #錯誤寫法 #布林索引也能與python的關鍵字and、not、or一起使用 #可是在布林索引時必須打符號 &、!、| 否則會報錯"
      ],
      "execution_count": 4,
      "outputs": [
        {
          "output_type": "error",
          "ename": "ValueError",
          "evalue": "ignored",
          "traceback": [
            "\u001b[0;31m---------------------------------------------------------------------------\u001b[0m",
            "\u001b[0;31mValueError\u001b[0m                                Traceback (most recent call last)",
            "\u001b[0;32m<ipython-input-4-646a22941bf7>\u001b[0m in \u001b[0;36m<module>\u001b[0;34m()\u001b[0m\n\u001b[0;32m----> 1\u001b[0;31m \u001b[0mtest\u001b[0m\u001b[0;34m[\u001b[0m\u001b[0;34m(\u001b[0m\u001b[0mtest\u001b[0m\u001b[0;34m<\u001b[0m\u001b[0;36m10\u001b[0m\u001b[0;34m)\u001b[0m \u001b[0;32mand\u001b[0m \u001b[0;34m(\u001b[0m\u001b[0mtest\u001b[0m\u001b[0;34m>\u001b[0m\u001b[0;36m2\u001b[0m\u001b[0;34m)\u001b[0m\u001b[0;34m]\u001b[0m \u001b[0;31m#錯誤寫法 #布林索引也能與python的關鍵字and、not、or一起使用 #可是在布林索引時必須打符號 &、!、| 否則會報錯\u001b[0m\u001b[0;34m\u001b[0m\u001b[0;34m\u001b[0m\u001b[0m\n\u001b[0m",
            "\u001b[0;31mValueError\u001b[0m: The truth value of an array with more than one element is ambiguous. Use a.any() or a.all()"
          ]
        }
      ]
    },
    {
      "cell_type": "code",
      "metadata": {
        "colab": {
          "base_uri": "https://localhost:8080/"
        },
        "id": "0_Ykaw24Rxn2",
        "outputId": "a0ca1b87-a617-4444-8fcd-4b43f4b13180"
      },
      "source": [
        "test[(test<10) & (test>2)] #正確寫法"
      ],
      "execution_count": 5,
      "outputs": [
        {
          "output_type": "execute_result",
          "data": {
            "text/plain": [
              "array([3, 4])"
            ]
          },
          "metadata": {},
          "execution_count": 5
        }
      ]
    },
    {
      "cell_type": "markdown",
      "metadata": {
        "id": "JQSBKBGSbYEM"
      },
      "source": [
        "#轉置陣列\n",
        "#####改變陣列的shape\n",
        "#####可以使用reshape()這個方法做到，參數是傳入想改變成的shape之tuple"
      ]
    },
    {
      "cell_type": "code",
      "metadata": {
        "colab": {
          "base_uri": "https://localhost:8080/"
        },
        "id": "iPTu9lGrZ282",
        "outputId": "52e4a6dc-dc36-46d8-c670-4a89e17958e4"
      },
      "source": [
        "test=np.array([1,2,3,4,5,6,7,8,9,10,11,12,13,14,15,16])\n",
        "test.shape"
      ],
      "execution_count": 6,
      "outputs": [
        {
          "output_type": "execute_result",
          "data": {
            "text/plain": [
              "(16,)"
            ]
          },
          "metadata": {},
          "execution_count": 6
        }
      ]
    },
    {
      "cell_type": "code",
      "metadata": {
        "colab": {
          "base_uri": "https://localhost:8080/"
        },
        "id": "23WxPUm5hDoU",
        "outputId": "fd364da9-f1fa-441b-a267-b8e4e6264c98"
      },
      "source": [
        "test.reshape((4,4))"
      ],
      "execution_count": null,
      "outputs": [
        {
          "output_type": "execute_result",
          "data": {
            "text/plain": [
              "array([[ 1,  2,  3,  4],\n",
              "       [ 5,  6,  7,  8],\n",
              "       [ 9, 10, 11, 12],\n",
              "       [13, 14, 15, 16]])"
            ]
          },
          "metadata": {},
          "execution_count": 30
        }
      ]
    },
    {
      "cell_type": "code",
      "metadata": {
        "colab": {
          "base_uri": "https://localhost:8080/"
        },
        "id": "z-nGH3h6hMyT",
        "outputId": "928b2bb4-a390-4a7c-ab41-67916acd6d11"
      },
      "source": [
        "test.reshape((2,8))"
      ],
      "execution_count": null,
      "outputs": [
        {
          "output_type": "execute_result",
          "data": {
            "text/plain": [
              "array([[ 1,  2,  3,  4,  5,  6,  7,  8],\n",
              "       [ 9, 10, 11, 12, 13, 14, 15, 16]])"
            ]
          },
          "metadata": {},
          "execution_count": 33
        }
      ]
    },
    {
      "cell_type": "code",
      "metadata": {
        "colab": {
          "base_uri": "https://localhost:8080/"
        },
        "id": "QcBnYOp6iR4t",
        "outputId": "893d6e19-f749-4c76-9068-201b455f96f1"
      },
      "source": [
        "test.reshape((4,-1)) #在reshape後面的參數填上-1 它會自動變成符合資料的模樣"
      ],
      "execution_count": 7,
      "outputs": [
        {
          "output_type": "execute_result",
          "data": {
            "text/plain": [
              "array([[ 1,  2,  3,  4],\n",
              "       [ 5,  6,  7,  8],\n",
              "       [ 9, 10, 11, 12],\n",
              "       [13, 14, 15, 16]])"
            ]
          },
          "metadata": {},
          "execution_count": 7
        }
      ]
    },
    {
      "cell_type": "code",
      "metadata": {
        "colab": {
          "base_uri": "https://localhost:8080/"
        },
        "id": "-aY2qjRSiYo0",
        "outputId": "90b151f9-dbc1-4937-ac46-0923f9a2810d"
      },
      "source": [
        "test.reshape((-1,2))"
      ],
      "execution_count": null,
      "outputs": [
        {
          "output_type": "execute_result",
          "data": {
            "text/plain": [
              "array([[ 1,  2],\n",
              "       [ 3,  4],\n",
              "       [ 5,  6],\n",
              "       [ 7,  8],\n",
              "       [ 9, 10],\n",
              "       [11, 12],\n",
              "       [13, 14],\n",
              "       [15, 16]])"
            ]
          },
          "metadata": {},
          "execution_count": 36
        }
      ]
    }
  ]
}