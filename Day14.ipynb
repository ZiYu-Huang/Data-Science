{
  "nbformat": 4,
  "nbformat_minor": 0,
  "metadata": {
    "colab": {
      "name": "Day14(16)sklearn:正規化、LabelEncoder、train_test_split",
      "provenance": [],
      "collapsed_sections": [],
      "include_colab_link": true
    },
    "kernelspec": {
      "name": "python3",
      "display_name": "Python 3"
    },
    "language_info": {
      "name": "python"
    }
  },
  "cells": [
    {
      "cell_type": "markdown",
      "metadata": {
        "id": "view-in-github",
        "colab_type": "text"
      },
      "source": [
        "<a href=\"https://colab.research.google.com/github/ZiYu-Huang/108-2-data-science/blob/master/Day14.ipynb\" target=\"_parent\"><img src=\"https://colab.research.google.com/assets/colab-badge.svg\" alt=\"Open In Colab\"/></a>"
      ]
    },
    {
      "cell_type": "markdown",
      "source": [
        "#正規化\n",
        "縮小資料的呈現比例，可使數值呈現在一定的範圍內\n",
        "\n",
        "\n",
        "使我們在訓練模型時，增加梯度下降的容易度並提升模型效果\n",
        "\n"
      ],
      "metadata": {
        "id": "s_rv7RqEc2hC"
      }
    },
    {
      "cell_type": "code",
      "metadata": {
        "id": "bFHeUB6s0Lvj"
      },
      "source": [
        "import pandas as pd\n",
        "import numpy as np"
      ],
      "execution_count": 2,
      "outputs": []
    },
    {
      "cell_type": "code",
      "metadata": {
        "colab": {
          "base_uri": "https://localhost:8080/",
          "height": 332
        },
        "id": "oUij5mh17kFl",
        "outputId": "f2f40f1c-3787-4fc5-e483-6241a8cda4d1"
      },
      "source": [
        "test_1 = pd.DataFrame(np.arange(-72,9).reshape(9,9))\n",
        "test_1"
      ],
      "execution_count": null,
      "outputs": [
        {
          "output_type": "execute_result",
          "data": {
            "text/plain": [
              "    0   1   2   3   4   5   6   7   8\n",
              "0 -72 -71 -70 -69 -68 -67 -66 -65 -64\n",
              "1 -63 -62 -61 -60 -59 -58 -57 -56 -55\n",
              "2 -54 -53 -52 -51 -50 -49 -48 -47 -46\n",
              "3 -45 -44 -43 -42 -41 -40 -39 -38 -37\n",
              "4 -36 -35 -34 -33 -32 -31 -30 -29 -28\n",
              "5 -27 -26 -25 -24 -23 -22 -21 -20 -19\n",
              "6 -18 -17 -16 -15 -14 -13 -12 -11 -10\n",
              "7  -9  -8  -7  -6  -5  -4  -3  -2  -1\n",
              "8   0   1   2   3   4   5   6   7   8"
            ],
            "text/html": [
              "\n",
              "  <div id=\"df-2ba9eabe-b63c-43fe-b492-ccd92f15abab\">\n",
              "    <div class=\"colab-df-container\">\n",
              "      <div>\n",
              "<style scoped>\n",
              "    .dataframe tbody tr th:only-of-type {\n",
              "        vertical-align: middle;\n",
              "    }\n",
              "\n",
              "    .dataframe tbody tr th {\n",
              "        vertical-align: top;\n",
              "    }\n",
              "\n",
              "    .dataframe thead th {\n",
              "        text-align: right;\n",
              "    }\n",
              "</style>\n",
              "<table border=\"1\" class=\"dataframe\">\n",
              "  <thead>\n",
              "    <tr style=\"text-align: right;\">\n",
              "      <th></th>\n",
              "      <th>0</th>\n",
              "      <th>1</th>\n",
              "      <th>2</th>\n",
              "      <th>3</th>\n",
              "      <th>4</th>\n",
              "      <th>5</th>\n",
              "      <th>6</th>\n",
              "      <th>7</th>\n",
              "      <th>8</th>\n",
              "    </tr>\n",
              "  </thead>\n",
              "  <tbody>\n",
              "    <tr>\n",
              "      <th>0</th>\n",
              "      <td>-72</td>\n",
              "      <td>-71</td>\n",
              "      <td>-70</td>\n",
              "      <td>-69</td>\n",
              "      <td>-68</td>\n",
              "      <td>-67</td>\n",
              "      <td>-66</td>\n",
              "      <td>-65</td>\n",
              "      <td>-64</td>\n",
              "    </tr>\n",
              "    <tr>\n",
              "      <th>1</th>\n",
              "      <td>-63</td>\n",
              "      <td>-62</td>\n",
              "      <td>-61</td>\n",
              "      <td>-60</td>\n",
              "      <td>-59</td>\n",
              "      <td>-58</td>\n",
              "      <td>-57</td>\n",
              "      <td>-56</td>\n",
              "      <td>-55</td>\n",
              "    </tr>\n",
              "    <tr>\n",
              "      <th>2</th>\n",
              "      <td>-54</td>\n",
              "      <td>-53</td>\n",
              "      <td>-52</td>\n",
              "      <td>-51</td>\n",
              "      <td>-50</td>\n",
              "      <td>-49</td>\n",
              "      <td>-48</td>\n",
              "      <td>-47</td>\n",
              "      <td>-46</td>\n",
              "    </tr>\n",
              "    <tr>\n",
              "      <th>3</th>\n",
              "      <td>-45</td>\n",
              "      <td>-44</td>\n",
              "      <td>-43</td>\n",
              "      <td>-42</td>\n",
              "      <td>-41</td>\n",
              "      <td>-40</td>\n",
              "      <td>-39</td>\n",
              "      <td>-38</td>\n",
              "      <td>-37</td>\n",
              "    </tr>\n",
              "    <tr>\n",
              "      <th>4</th>\n",
              "      <td>-36</td>\n",
              "      <td>-35</td>\n",
              "      <td>-34</td>\n",
              "      <td>-33</td>\n",
              "      <td>-32</td>\n",
              "      <td>-31</td>\n",
              "      <td>-30</td>\n",
              "      <td>-29</td>\n",
              "      <td>-28</td>\n",
              "    </tr>\n",
              "    <tr>\n",
              "      <th>5</th>\n",
              "      <td>-27</td>\n",
              "      <td>-26</td>\n",
              "      <td>-25</td>\n",
              "      <td>-24</td>\n",
              "      <td>-23</td>\n",
              "      <td>-22</td>\n",
              "      <td>-21</td>\n",
              "      <td>-20</td>\n",
              "      <td>-19</td>\n",
              "    </tr>\n",
              "    <tr>\n",
              "      <th>6</th>\n",
              "      <td>-18</td>\n",
              "      <td>-17</td>\n",
              "      <td>-16</td>\n",
              "      <td>-15</td>\n",
              "      <td>-14</td>\n",
              "      <td>-13</td>\n",
              "      <td>-12</td>\n",
              "      <td>-11</td>\n",
              "      <td>-10</td>\n",
              "    </tr>\n",
              "    <tr>\n",
              "      <th>7</th>\n",
              "      <td>-9</td>\n",
              "      <td>-8</td>\n",
              "      <td>-7</td>\n",
              "      <td>-6</td>\n",
              "      <td>-5</td>\n",
              "      <td>-4</td>\n",
              "      <td>-3</td>\n",
              "      <td>-2</td>\n",
              "      <td>-1</td>\n",
              "    </tr>\n",
              "    <tr>\n",
              "      <th>8</th>\n",
              "      <td>0</td>\n",
              "      <td>1</td>\n",
              "      <td>2</td>\n",
              "      <td>3</td>\n",
              "      <td>4</td>\n",
              "      <td>5</td>\n",
              "      <td>6</td>\n",
              "      <td>7</td>\n",
              "      <td>8</td>\n",
              "    </tr>\n",
              "  </tbody>\n",
              "</table>\n",
              "</div>\n",
              "      <button class=\"colab-df-convert\" onclick=\"convertToInteractive('df-2ba9eabe-b63c-43fe-b492-ccd92f15abab')\"\n",
              "              title=\"Convert this dataframe to an interactive table.\"\n",
              "              style=\"display:none;\">\n",
              "        \n",
              "  <svg xmlns=\"http://www.w3.org/2000/svg\" height=\"24px\"viewBox=\"0 0 24 24\"\n",
              "       width=\"24px\">\n",
              "    <path d=\"M0 0h24v24H0V0z\" fill=\"none\"/>\n",
              "    <path d=\"M18.56 5.44l.94 2.06.94-2.06 2.06-.94-2.06-.94-.94-2.06-.94 2.06-2.06.94zm-11 1L8.5 8.5l.94-2.06 2.06-.94-2.06-.94L8.5 2.5l-.94 2.06-2.06.94zm10 10l.94 2.06.94-2.06 2.06-.94-2.06-.94-.94-2.06-.94 2.06-2.06.94z\"/><path d=\"M17.41 7.96l-1.37-1.37c-.4-.4-.92-.59-1.43-.59-.52 0-1.04.2-1.43.59L10.3 9.45l-7.72 7.72c-.78.78-.78 2.05 0 2.83L4 21.41c.39.39.9.59 1.41.59.51 0 1.02-.2 1.41-.59l7.78-7.78 2.81-2.81c.8-.78.8-2.07 0-2.86zM5.41 20L4 18.59l7.72-7.72 1.47 1.35L5.41 20z\"/>\n",
              "  </svg>\n",
              "      </button>\n",
              "      \n",
              "  <style>\n",
              "    .colab-df-container {\n",
              "      display:flex;\n",
              "      flex-wrap:wrap;\n",
              "      gap: 12px;\n",
              "    }\n",
              "\n",
              "    .colab-df-convert {\n",
              "      background-color: #E8F0FE;\n",
              "      border: none;\n",
              "      border-radius: 50%;\n",
              "      cursor: pointer;\n",
              "      display: none;\n",
              "      fill: #1967D2;\n",
              "      height: 32px;\n",
              "      padding: 0 0 0 0;\n",
              "      width: 32px;\n",
              "    }\n",
              "\n",
              "    .colab-df-convert:hover {\n",
              "      background-color: #E2EBFA;\n",
              "      box-shadow: 0px 1px 2px rgba(60, 64, 67, 0.3), 0px 1px 3px 1px rgba(60, 64, 67, 0.15);\n",
              "      fill: #174EA6;\n",
              "    }\n",
              "\n",
              "    [theme=dark] .colab-df-convert {\n",
              "      background-color: #3B4455;\n",
              "      fill: #D2E3FC;\n",
              "    }\n",
              "\n",
              "    [theme=dark] .colab-df-convert:hover {\n",
              "      background-color: #434B5C;\n",
              "      box-shadow: 0px 1px 3px 1px rgba(0, 0, 0, 0.15);\n",
              "      filter: drop-shadow(0px 1px 2px rgba(0, 0, 0, 0.3));\n",
              "      fill: #FFFFFF;\n",
              "    }\n",
              "  </style>\n",
              "\n",
              "      <script>\n",
              "        const buttonEl =\n",
              "          document.querySelector('#df-2ba9eabe-b63c-43fe-b492-ccd92f15abab button.colab-df-convert');\n",
              "        buttonEl.style.display =\n",
              "          google.colab.kernel.accessAllowed ? 'block' : 'none';\n",
              "\n",
              "        async function convertToInteractive(key) {\n",
              "          const element = document.querySelector('#df-2ba9eabe-b63c-43fe-b492-ccd92f15abab');\n",
              "          const dataTable =\n",
              "            await google.colab.kernel.invokeFunction('convertToInteractive',\n",
              "                                                     [key], {});\n",
              "          if (!dataTable) return;\n",
              "\n",
              "          const docLinkHtml = 'Like what you see? Visit the ' +\n",
              "            '<a target=\"_blank\" href=https://colab.research.google.com/notebooks/data_table.ipynb>data table notebook</a>'\n",
              "            + ' to learn more about interactive tables.';\n",
              "          element.innerHTML = '';\n",
              "          dataTable['output_type'] = 'display_data';\n",
              "          await google.colab.output.renderOutput(dataTable, element);\n",
              "          const docLink = document.createElement('div');\n",
              "          docLink.innerHTML = docLinkHtml;\n",
              "          element.appendChild(docLink);\n",
              "        }\n",
              "      </script>\n",
              "    </div>\n",
              "  </div>\n",
              "  "
            ]
          },
          "metadata": {},
          "execution_count": 2
        }
      ]
    },
    {
      "cell_type": "code",
      "metadata": {
        "colab": {
          "base_uri": "https://localhost:8080/",
          "height": 332
        },
        "id": "JEjd4hoN775o",
        "outputId": "26b2b410-db84-4b08-9b29-b4aff9088e18"
      },
      "source": [
        "test_2 = pd.DataFrame(np.arange(1,82).reshape(9,9))\n",
        "test_2"
      ],
      "execution_count": null,
      "outputs": [
        {
          "output_type": "execute_result",
          "data": {
            "text/plain": [
              "    0   1   2   3   4   5   6   7   8\n",
              "0   1   2   3   4   5   6   7   8   9\n",
              "1  10  11  12  13  14  15  16  17  18\n",
              "2  19  20  21  22  23  24  25  26  27\n",
              "3  28  29  30  31  32  33  34  35  36\n",
              "4  37  38  39  40  41  42  43  44  45\n",
              "5  46  47  48  49  50  51  52  53  54\n",
              "6  55  56  57  58  59  60  61  62  63\n",
              "7  64  65  66  67  68  69  70  71  72\n",
              "8  73  74  75  76  77  78  79  80  81"
            ],
            "text/html": [
              "\n",
              "  <div id=\"df-6baa67c0-7e43-4e69-84a4-e2ba516aa9b0\">\n",
              "    <div class=\"colab-df-container\">\n",
              "      <div>\n",
              "<style scoped>\n",
              "    .dataframe tbody tr th:only-of-type {\n",
              "        vertical-align: middle;\n",
              "    }\n",
              "\n",
              "    .dataframe tbody tr th {\n",
              "        vertical-align: top;\n",
              "    }\n",
              "\n",
              "    .dataframe thead th {\n",
              "        text-align: right;\n",
              "    }\n",
              "</style>\n",
              "<table border=\"1\" class=\"dataframe\">\n",
              "  <thead>\n",
              "    <tr style=\"text-align: right;\">\n",
              "      <th></th>\n",
              "      <th>0</th>\n",
              "      <th>1</th>\n",
              "      <th>2</th>\n",
              "      <th>3</th>\n",
              "      <th>4</th>\n",
              "      <th>5</th>\n",
              "      <th>6</th>\n",
              "      <th>7</th>\n",
              "      <th>8</th>\n",
              "    </tr>\n",
              "  </thead>\n",
              "  <tbody>\n",
              "    <tr>\n",
              "      <th>0</th>\n",
              "      <td>1</td>\n",
              "      <td>2</td>\n",
              "      <td>3</td>\n",
              "      <td>4</td>\n",
              "      <td>5</td>\n",
              "      <td>6</td>\n",
              "      <td>7</td>\n",
              "      <td>8</td>\n",
              "      <td>9</td>\n",
              "    </tr>\n",
              "    <tr>\n",
              "      <th>1</th>\n",
              "      <td>10</td>\n",
              "      <td>11</td>\n",
              "      <td>12</td>\n",
              "      <td>13</td>\n",
              "      <td>14</td>\n",
              "      <td>15</td>\n",
              "      <td>16</td>\n",
              "      <td>17</td>\n",
              "      <td>18</td>\n",
              "    </tr>\n",
              "    <tr>\n",
              "      <th>2</th>\n",
              "      <td>19</td>\n",
              "      <td>20</td>\n",
              "      <td>21</td>\n",
              "      <td>22</td>\n",
              "      <td>23</td>\n",
              "      <td>24</td>\n",
              "      <td>25</td>\n",
              "      <td>26</td>\n",
              "      <td>27</td>\n",
              "    </tr>\n",
              "    <tr>\n",
              "      <th>3</th>\n",
              "      <td>28</td>\n",
              "      <td>29</td>\n",
              "      <td>30</td>\n",
              "      <td>31</td>\n",
              "      <td>32</td>\n",
              "      <td>33</td>\n",
              "      <td>34</td>\n",
              "      <td>35</td>\n",
              "      <td>36</td>\n",
              "    </tr>\n",
              "    <tr>\n",
              "      <th>4</th>\n",
              "      <td>37</td>\n",
              "      <td>38</td>\n",
              "      <td>39</td>\n",
              "      <td>40</td>\n",
              "      <td>41</td>\n",
              "      <td>42</td>\n",
              "      <td>43</td>\n",
              "      <td>44</td>\n",
              "      <td>45</td>\n",
              "    </tr>\n",
              "    <tr>\n",
              "      <th>5</th>\n",
              "      <td>46</td>\n",
              "      <td>47</td>\n",
              "      <td>48</td>\n",
              "      <td>49</td>\n",
              "      <td>50</td>\n",
              "      <td>51</td>\n",
              "      <td>52</td>\n",
              "      <td>53</td>\n",
              "      <td>54</td>\n",
              "    </tr>\n",
              "    <tr>\n",
              "      <th>6</th>\n",
              "      <td>55</td>\n",
              "      <td>56</td>\n",
              "      <td>57</td>\n",
              "      <td>58</td>\n",
              "      <td>59</td>\n",
              "      <td>60</td>\n",
              "      <td>61</td>\n",
              "      <td>62</td>\n",
              "      <td>63</td>\n",
              "    </tr>\n",
              "    <tr>\n",
              "      <th>7</th>\n",
              "      <td>64</td>\n",
              "      <td>65</td>\n",
              "      <td>66</td>\n",
              "      <td>67</td>\n",
              "      <td>68</td>\n",
              "      <td>69</td>\n",
              "      <td>70</td>\n",
              "      <td>71</td>\n",
              "      <td>72</td>\n",
              "    </tr>\n",
              "    <tr>\n",
              "      <th>8</th>\n",
              "      <td>73</td>\n",
              "      <td>74</td>\n",
              "      <td>75</td>\n",
              "      <td>76</td>\n",
              "      <td>77</td>\n",
              "      <td>78</td>\n",
              "      <td>79</td>\n",
              "      <td>80</td>\n",
              "      <td>81</td>\n",
              "    </tr>\n",
              "  </tbody>\n",
              "</table>\n",
              "</div>\n",
              "      <button class=\"colab-df-convert\" onclick=\"convertToInteractive('df-6baa67c0-7e43-4e69-84a4-e2ba516aa9b0')\"\n",
              "              title=\"Convert this dataframe to an interactive table.\"\n",
              "              style=\"display:none;\">\n",
              "        \n",
              "  <svg xmlns=\"http://www.w3.org/2000/svg\" height=\"24px\"viewBox=\"0 0 24 24\"\n",
              "       width=\"24px\">\n",
              "    <path d=\"M0 0h24v24H0V0z\" fill=\"none\"/>\n",
              "    <path d=\"M18.56 5.44l.94 2.06.94-2.06 2.06-.94-2.06-.94-.94-2.06-.94 2.06-2.06.94zm-11 1L8.5 8.5l.94-2.06 2.06-.94-2.06-.94L8.5 2.5l-.94 2.06-2.06.94zm10 10l.94 2.06.94-2.06 2.06-.94-2.06-.94-.94-2.06-.94 2.06-2.06.94z\"/><path d=\"M17.41 7.96l-1.37-1.37c-.4-.4-.92-.59-1.43-.59-.52 0-1.04.2-1.43.59L10.3 9.45l-7.72 7.72c-.78.78-.78 2.05 0 2.83L4 21.41c.39.39.9.59 1.41.59.51 0 1.02-.2 1.41-.59l7.78-7.78 2.81-2.81c.8-.78.8-2.07 0-2.86zM5.41 20L4 18.59l7.72-7.72 1.47 1.35L5.41 20z\"/>\n",
              "  </svg>\n",
              "      </button>\n",
              "      \n",
              "  <style>\n",
              "    .colab-df-container {\n",
              "      display:flex;\n",
              "      flex-wrap:wrap;\n",
              "      gap: 12px;\n",
              "    }\n",
              "\n",
              "    .colab-df-convert {\n",
              "      background-color: #E8F0FE;\n",
              "      border: none;\n",
              "      border-radius: 50%;\n",
              "      cursor: pointer;\n",
              "      display: none;\n",
              "      fill: #1967D2;\n",
              "      height: 32px;\n",
              "      padding: 0 0 0 0;\n",
              "      width: 32px;\n",
              "    }\n",
              "\n",
              "    .colab-df-convert:hover {\n",
              "      background-color: #E2EBFA;\n",
              "      box-shadow: 0px 1px 2px rgba(60, 64, 67, 0.3), 0px 1px 3px 1px rgba(60, 64, 67, 0.15);\n",
              "      fill: #174EA6;\n",
              "    }\n",
              "\n",
              "    [theme=dark] .colab-df-convert {\n",
              "      background-color: #3B4455;\n",
              "      fill: #D2E3FC;\n",
              "    }\n",
              "\n",
              "    [theme=dark] .colab-df-convert:hover {\n",
              "      background-color: #434B5C;\n",
              "      box-shadow: 0px 1px 3px 1px rgba(0, 0, 0, 0.15);\n",
              "      filter: drop-shadow(0px 1px 2px rgba(0, 0, 0, 0.3));\n",
              "      fill: #FFFFFF;\n",
              "    }\n",
              "  </style>\n",
              "\n",
              "      <script>\n",
              "        const buttonEl =\n",
              "          document.querySelector('#df-6baa67c0-7e43-4e69-84a4-e2ba516aa9b0 button.colab-df-convert');\n",
              "        buttonEl.style.display =\n",
              "          google.colab.kernel.accessAllowed ? 'block' : 'none';\n",
              "\n",
              "        async function convertToInteractive(key) {\n",
              "          const element = document.querySelector('#df-6baa67c0-7e43-4e69-84a4-e2ba516aa9b0');\n",
              "          const dataTable =\n",
              "            await google.colab.kernel.invokeFunction('convertToInteractive',\n",
              "                                                     [key], {});\n",
              "          if (!dataTable) return;\n",
              "\n",
              "          const docLinkHtml = 'Like what you see? Visit the ' +\n",
              "            '<a target=\"_blank\" href=https://colab.research.google.com/notebooks/data_table.ipynb>data table notebook</a>'\n",
              "            + ' to learn more about interactive tables.';\n",
              "          element.innerHTML = '';\n",
              "          dataTable['output_type'] = 'display_data';\n",
              "          await google.colab.output.renderOutput(dataTable, element);\n",
              "          const docLink = document.createElement('div');\n",
              "          docLink.innerHTML = docLinkHtml;\n",
              "          element.appendChild(docLink);\n",
              "        }\n",
              "      </script>\n",
              "    </div>\n",
              "  </div>\n",
              "  "
            ]
          },
          "metadata": {},
          "execution_count": 3
        }
      ]
    },
    {
      "cell_type": "markdown",
      "source": [
        "##StandardScaler\n",
        "使均方差為1\n",
        "\n",
        "\n",
        "使用方法:\n",
        "1. 將StandarScaler方法先指派給一個變數名稱\n",
        "2. fit_transform後方參數填入要正規化的值\n",
        "3. transform後方填入的參數會依據fit_transform的結果來做正規化\n",
        "4. ***fit_transform***通常用來正規化*training set*; 而***transform***用來正規化*testing set*\n",
        "\n",
        "其他正規化的使用方式與StandarScaler一樣，以下不會再多述"
      ],
      "metadata": {
        "id": "he2ExT9jc9ZJ"
      }
    },
    {
      "cell_type": "code",
      "metadata": {
        "id": "9658q8OH0TqB"
      },
      "source": [
        "from sklearn.preprocessing import StandardScaler "
      ],
      "execution_count": 9,
      "outputs": []
    },
    {
      "cell_type": "code",
      "metadata": {
        "colab": {
          "base_uri": "https://localhost:8080/"
        },
        "id": "D3UaT_mK71wo",
        "outputId": "660cc1ba-8318-4932-84e4-df20fd391e1e"
      },
      "source": [
        "sc = StandardScaler()\n",
        "sc_test_1 = sc.fit_transform(test_1)\n",
        "sc_test_2 = sc.transform(test_2)\n",
        "print(f\"sc_test_1.max() = {sc_test_1.max()}\")\n",
        "print(f\"sc_test_1.min() = {sc_test_1.min()}\")\n",
        "print(f\"sc_test_1.mean() = {sc_test_1.mean()}\")\n",
        "print(f\"sc_test_1.std() = {sc_test_1.std()}\")"
      ],
      "execution_count": null,
      "outputs": [
        {
          "output_type": "stream",
          "text": [
            "sc_test_1.max() = 1.5491933384829668\n",
            "sc_test_1.min() = -1.5491933384829668\n",
            "sc_test_1.mean() = -2.741291418827547e-17\n",
            "sc_test_1.std() = 1.0\n"
          ],
          "name": "stdout"
        }
      ]
    },
    {
      "cell_type": "markdown",
      "source": [
        "##MinMaxScaler\n",
        "(原值-min)/(max-min) ⇦ 此計算方式會使資料落於0~1的區間中"
      ],
      "metadata": {
        "id": "_p9B_MkAeHbh"
      }
    },
    {
      "cell_type": "code",
      "metadata": {
        "colab": {
          "base_uri": "https://localhost:8080/",
          "height": 237
        },
        "id": "8KRzAGpl0akZ",
        "outputId": "90ba2a11-26b6-4d93-f655-05d3e77bb077"
      },
      "source": [
        "from sklearn.preprocessing import MinMaxScaler\n",
        "minmax = MinMaxScaler()\n",
        "minmax_test_1 = minmax.fit_transform(test_1)\n",
        "minmax_test_2 = minmax.transform(test_2)\n",
        "print(f\"minmax_test_1.max() = {minmax_test_1.max()}\")\n",
        "print(f\"minmax_test_1.min() = {minmax_test_1.min()}\")\n",
        "print(f\"minmax_test_1.mean() = {minmax_test_1.mean()}\")\n",
        "print(f\"minmax_test_1.std() = {minmax_test_1.std()}\")"
      ],
      "execution_count": 10,
      "outputs": [
        {
          "output_type": "error",
          "ename": "NameError",
          "evalue": "ignored",
          "traceback": [
            "\u001b[0;31m---------------------------------------------------------------------------\u001b[0m",
            "\u001b[0;31mNameError\u001b[0m                                 Traceback (most recent call last)",
            "\u001b[0;32m<ipython-input-10-227586040ea9>\u001b[0m in \u001b[0;36m<module>\u001b[0;34m()\u001b[0m\n\u001b[1;32m      1\u001b[0m \u001b[0;32mfrom\u001b[0m \u001b[0msklearn\u001b[0m\u001b[0;34m.\u001b[0m\u001b[0mpreprocessing\u001b[0m \u001b[0;32mimport\u001b[0m \u001b[0mMinMaxScaler\u001b[0m\u001b[0;34m\u001b[0m\u001b[0;34m\u001b[0m\u001b[0m\n\u001b[1;32m      2\u001b[0m \u001b[0mminmax\u001b[0m \u001b[0;34m=\u001b[0m \u001b[0mMinMaxScaler\u001b[0m\u001b[0;34m(\u001b[0m\u001b[0;34m)\u001b[0m\u001b[0;34m\u001b[0m\u001b[0;34m\u001b[0m\u001b[0m\n\u001b[0;32m----> 3\u001b[0;31m \u001b[0mminmax_test_1\u001b[0m \u001b[0;34m=\u001b[0m \u001b[0mminmax\u001b[0m\u001b[0;34m.\u001b[0m\u001b[0mfit_transform\u001b[0m\u001b[0;34m(\u001b[0m\u001b[0mtest_1\u001b[0m\u001b[0;34m)\u001b[0m\u001b[0;34m\u001b[0m\u001b[0;34m\u001b[0m\u001b[0m\n\u001b[0m\u001b[1;32m      4\u001b[0m \u001b[0mminmax_test_2\u001b[0m \u001b[0;34m=\u001b[0m \u001b[0mminmax\u001b[0m\u001b[0;34m.\u001b[0m\u001b[0mtransform\u001b[0m\u001b[0;34m(\u001b[0m\u001b[0mtest_2\u001b[0m\u001b[0;34m)\u001b[0m\u001b[0;34m\u001b[0m\u001b[0;34m\u001b[0m\u001b[0m\n\u001b[1;32m      5\u001b[0m \u001b[0mprint\u001b[0m\u001b[0;34m(\u001b[0m\u001b[0;34mf\"minmax_test_1.max() = {minmax_test_1.max()}\"\u001b[0m\u001b[0;34m)\u001b[0m\u001b[0;34m\u001b[0m\u001b[0;34m\u001b[0m\u001b[0m\n",
            "\u001b[0;31mNameError\u001b[0m: name 'test_1' is not defined"
          ]
        }
      ]
    },
    {
      "cell_type": "markdown",
      "source": [
        "##MaxAbsScaler\n",
        "原值 / 原值取絕對值後的最大值 ⇦ 此計算方式會使資料落於-1~1的區間中"
      ],
      "metadata": {
        "id": "ng5Zr-lseM7K"
      }
    },
    {
      "cell_type": "code",
      "metadata": {
        "colab": {
          "base_uri": "https://localhost:8080/",
          "height": 237
        },
        "id": "l8UcphxQ0c3R",
        "outputId": "4c5ab964-aba7-4e06-a18c-a412a88c1abb"
      },
      "source": [
        "from sklearn.preprocessing import MaxAbsScaler\n",
        "maxabs = MaxAbsScaler()\n",
        "maxabs_test_1 = maxabs.fit_transform(test_1)\n",
        "maxabs_test_2 = maxabs.transform(test_2)\n",
        "print(f\"maxabs_test_1.max() = {maxabs_test_1.max()}\")\n",
        "print(f\"maxabs_test_1.min() = {maxabs_test_1.min()}\")\n",
        "print(f\"maxabs_test_1.mean() = {maxabs_test_1.mean()}\")\n",
        "print(f\"maxabs_test_1.std() = {maxabs_test_1.std()}\")"
      ],
      "execution_count": 11,
      "outputs": [
        {
          "output_type": "error",
          "ename": "NameError",
          "evalue": "ignored",
          "traceback": [
            "\u001b[0;31m---------------------------------------------------------------------------\u001b[0m",
            "\u001b[0;31mNameError\u001b[0m                                 Traceback (most recent call last)",
            "\u001b[0;32m<ipython-input-11-de752413c7f5>\u001b[0m in \u001b[0;36m<module>\u001b[0;34m()\u001b[0m\n\u001b[1;32m      1\u001b[0m \u001b[0;32mfrom\u001b[0m \u001b[0msklearn\u001b[0m\u001b[0;34m.\u001b[0m\u001b[0mpreprocessing\u001b[0m \u001b[0;32mimport\u001b[0m \u001b[0mMaxAbsScaler\u001b[0m\u001b[0;34m\u001b[0m\u001b[0;34m\u001b[0m\u001b[0m\n\u001b[1;32m      2\u001b[0m \u001b[0mmaxabs\u001b[0m \u001b[0;34m=\u001b[0m \u001b[0mMaxAbsScaler\u001b[0m\u001b[0;34m(\u001b[0m\u001b[0;34m)\u001b[0m\u001b[0;34m\u001b[0m\u001b[0;34m\u001b[0m\u001b[0m\n\u001b[0;32m----> 3\u001b[0;31m \u001b[0mmaxabs_test_1\u001b[0m \u001b[0;34m=\u001b[0m \u001b[0mmaxabs\u001b[0m\u001b[0;34m.\u001b[0m\u001b[0mfit_transform\u001b[0m\u001b[0;34m(\u001b[0m\u001b[0mtest_1\u001b[0m\u001b[0;34m)\u001b[0m\u001b[0;34m\u001b[0m\u001b[0;34m\u001b[0m\u001b[0m\n\u001b[0m\u001b[1;32m      4\u001b[0m \u001b[0mmaxabs_test_2\u001b[0m \u001b[0;34m=\u001b[0m \u001b[0mmaxabs\u001b[0m\u001b[0;34m.\u001b[0m\u001b[0mtransform\u001b[0m\u001b[0;34m(\u001b[0m\u001b[0mtest_2\u001b[0m\u001b[0;34m)\u001b[0m\u001b[0;34m\u001b[0m\u001b[0;34m\u001b[0m\u001b[0m\n\u001b[1;32m      5\u001b[0m \u001b[0mprint\u001b[0m\u001b[0;34m(\u001b[0m\u001b[0;34mf\"maxabs_test_1.max() = {maxabs_test_1.max()}\"\u001b[0m\u001b[0;34m)\u001b[0m\u001b[0;34m\u001b[0m\u001b[0;34m\u001b[0m\u001b[0m\n",
            "\u001b[0;31mNameError\u001b[0m: name 'test_1' is not defined"
          ]
        }
      ]
    },
    {
      "cell_type": "markdown",
      "source": [
        "#LabelEncoder\n",
        "當我們想把一筆資料拿去train時，必須將所有的值都轉成數字，這樣電腦才能看懂，因為像是字串此類型的資料是無法直接拿下去train，而有時因為資料眾多將每個字串都轉成數字的工作將會變得耗時又繁瑣。\n",
        "\n",
        "\n",
        "LabelEncoder就能快述的幫助我們做到快述的編碼"
      ],
      "metadata": {
        "id": "S8y-s0VohEJR"
      }
    },
    {
      "cell_type": "code",
      "source": [
        "from sklearn.preprocessing import LabelEncoder\n",
        "test = pd.DataFrame(['apple', 'apple', 'banana', 'orange', 'banana', 'orange'])"
      ],
      "metadata": {
        "id": "tQ_NDhtiIfLI"
      },
      "execution_count": 12,
      "outputs": []
    },
    {
      "cell_type": "markdown",
      "source": [
        "使用方式:\n",
        "\n",
        "\n",
        "將LabelEncoder方法指派給一個變數\n",
        "，之後使用fit_transform後方填入要encoder的值"
      ],
      "metadata": {
        "id": "ZhHAUuJ8JlhT"
      }
    },
    {
      "cell_type": "code",
      "source": [
        "labelencoder = LabelEncoder()\n",
        "test_label = labelencoder.fit_transform(test)\n",
        "test_label #輸出結果:同為apple的字串被編為0、banana為1、orange為2"
      ],
      "metadata": {
        "colab": {
          "base_uri": "https://localhost:8080/"
        },
        "id": "2Z0CjIbFJPIJ",
        "outputId": "f466a1fb-e43e-4a53-b58c-c9d470360b8a"
      },
      "execution_count": null,
      "outputs": [
        {
          "output_type": "stream",
          "name": "stderr",
          "text": [
            "/usr/local/lib/python3.7/dist-packages/sklearn/preprocessing/_label.py:115: DataConversionWarning: A column-vector y was passed when a 1d array was expected. Please change the shape of y to (n_samples, ), for example using ravel().\n",
            "  y = column_or_1d(y, warn=True)\n"
          ]
        },
        {
          "output_type": "execute_result",
          "data": {
            "text/plain": [
              "array([0, 0, 1, 2, 1, 2])"
            ]
          },
          "metadata": {},
          "execution_count": 6
        }
      ]
    },
    {
      "cell_type": "markdown",
      "source": [
        "#train_test_split\n",
        "快速的將資料分為訓練集(train)和驗證集(valid)"
      ],
      "metadata": {
        "id": "EF8iNgzeJzIu"
      }
    },
    {
      "cell_type": "code",
      "source": [
        "from sklearn.model_selection import train_test_split\n",
        "url = 'https://raw.githubusercontent.com/ZiYu-Huang/Practices-for-Beginners/main/train.csv'\n",
        "data_set = pd.read_csv(url)"
      ],
      "metadata": {
        "id": "Um-UGEAVLVL9"
      },
      "execution_count": 45,
      "outputs": []
    },
    {
      "cell_type": "markdown",
      "source": [
        "train_test_split() 所接受的變數其實非常單純，基本上為3項：『原始的資料』、『Seed』、『比例』\n",
        "\n",
        "\n",
        "1. 原始的資料：就如同上方的 data 一般，是我們打算切成 Training data 以及 Test data 的原始資料\n",
        "2. Seed： 亂數種子，可以固定我們切割資料的結果\n",
        "3. 比例：可以設定 train_size 或 test_size，只要設定一邊即可，範圍在 [0-1] 之間"
      ],
      "metadata": {
        "id": "KY_DWMs8ark5"
      }
    },
    {
      "cell_type": "code",
      "source": [
        "train_data, test_data = train_test_split(data_set, random_state=777, test_size = 0.1)\n",
        "#random_state參數主要是為了保證每次都分割一樣的訓練集和測試機，大小可以是任意一個整數，在調參緩解，只要保證其值一致即可。\n",
        "print('train_data分成: ',train_data.shape)\n",
        "print('test_data分成: ',test_data.shape)\n",
        "#x_train, x_valid, y_train, y_valid = train_test_split(x = 'Age', y = 'Survived',test_size = 0.1, data = data_set)"
      ],
      "metadata": {
        "id": "fjDRj7C0KgTP",
        "colab": {
          "base_uri": "https://localhost:8080/"
        },
        "outputId": "5af39c7d-b9e4-4f25-b89d-93d4722eb055"
      },
      "execution_count": 35,
      "outputs": [
        {
          "output_type": "stream",
          "name": "stdout",
          "text": [
            "train_data分成:  (801, 12)\n",
            "test_data分成:  (90, 12)\n"
          ]
        }
      ]
    },
    {
      "cell_type": "markdown",
      "source": [
        "train_test_split後方參數第一個為特徵值、第二個target、第三個是要分成的比例\n",
        "\n",
        "之後會回傳四個值 順序為訓練集特徵值、驗證集特徵值、訓練集target、驗證集traget"
      ],
      "metadata": {
        "id": "8XZcHJpfgXcp"
      }
    },
    {
      "cell_type": "code",
      "source": [
        "import pandas as pd\n",
        "test = pd.DataFrame(data_set)\n",
        "x = test['Age']\n",
        "y = test['Survived']"
      ],
      "metadata": {
        "id": "IWC_TPx2ggDh"
      },
      "execution_count": 52,
      "outputs": []
    },
    {
      "cell_type": "code",
      "source": [
        "x_train, x_valid, y_train, y_valid = train_test_split(x, y, test_size = 0.1, random_state=777)\n",
        "print(x_train.shape)\n",
        "print(x_valid.shape)\n",
        "print(y_train.shape)\n",
        "print(y_valid.shape)"
      ],
      "metadata": {
        "colab": {
          "base_uri": "https://localhost:8080/"
        },
        "id": "t7k2pyb5Txhu",
        "outputId": "57f5c09f-76b4-453c-8dcc-1d1b73a5dfac"
      },
      "execution_count": 53,
      "outputs": [
        {
          "output_type": "stream",
          "name": "stdout",
          "text": [
            "(801,)\n",
            "(90,)\n",
            "(801,)\n",
            "(90,)\n"
          ]
        }
      ]
    }
  ]
}